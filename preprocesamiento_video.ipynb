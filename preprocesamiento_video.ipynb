{
 "cells": [
  {
   "attachments": {},
   "cell_type": "markdown",
   "metadata": {},
   "source": [
    "## Seguimiento de una bola en video"
   ]
  },
  {
   "attachments": {},
   "cell_type": "markdown",
   "metadata": {},
   "source": [
    "### Autores  \n",
    "- José Rey Arijón\n",
    "- David López Loureiro"
   ]
  },
  {
   "cell_type": "code",
   "execution_count": 1,
   "metadata": {},
   "outputs": [
    {
     "name": "stdout",
     "output_type": "stream",
     "text": [
      "Requirement already satisfied: opencv-contrib-python in c:\\users\\jose.reyarijon\\anaconda3\\envs\\mlenv\\lib\\site-packages (4.7.0.68)\n",
      "Requirement already satisfied: numpy>=1.17.0 in c:\\users\\jose.reyarijon\\anaconda3\\envs\\mlenv\\lib\\site-packages (from opencv-contrib-python) (1.24.1)\n"
     ]
    }
   ],
   "source": [
    "!pip3 install opencv-contrib-python"
   ]
  },
  {
   "attachments": {},
   "cell_type": "markdown",
   "metadata": {},
   "source": [
    "### Librerias necesarias"
   ]
  },
  {
   "cell_type": "code",
   "execution_count": 2,
   "metadata": {},
   "outputs": [],
   "source": [
    "import os;\n",
    "import numpy as np;\n",
    "import cv2;\n",
    "from skimage import filters;\n",
    "from skimage.morphology import disk;\n"
   ]
  },
  {
   "attachments": {},
   "cell_type": "markdown",
   "metadata": {},
   "source": [
    "### Obtenemos el directorio del dataset"
   ]
  },
  {
   "cell_type": "code",
   "execution_count": 3,
   "metadata": {},
   "outputs": [],
   "source": [
    "BASE=os.getcwd();\n",
    "\n",
    "VIDEO= os.path.join(BASE,\"DATASETS/pelota.mp4\")"
   ]
  },
  {
   "attachments": {},
   "cell_type": "markdown",
   "metadata": {},
   "source": [
    "### Preprocesamos y visualizamos el video"
   ]
  },
  {
   "cell_type": "code",
   "execution_count": 4,
   "metadata": {},
   "outputs": [
    {
     "ename": "",
     "evalue": "",
     "output_type": "error",
     "traceback": [
      "\u001b[1;31mThe Kernel crashed while executing code in the the current cell or a previous cell. Please review the code in the cell(s) to identify a possible cause of the failure. Click <a href='https://aka.ms/vscodeJupyterKernelCrash'>here</a> for more info. View Jupyter <a href='command:jupyter.viewOutput'>log</a> for further details."
     ]
    }
   ],
   "source": [
    "if os.path.isfile(VIDEO):\n",
    "   background = None\n",
    "   cap = cv2.VideoCapture(VIDEO);\n",
    "   try: \n",
    "       while cap.isOpened():\n",
    "         ret, frame = cap.read();\n",
    "         if ret == False:\n",
    "            break\n",
    "\n",
    "         gray = cv2.cvtColor(frame, cv2.COLOR_BGR2GRAY)\n",
    "         median = filters.rank.median(gray, disk(10));\n",
    "         if background is None:\n",
    "            background = gray\n",
    "            continue\n",
    "        \n",
    "         threshold = cv2.threshold(median, 125, 255, cv2.THRESH_BINARY)[1]\n",
    "\n",
    "         # Encontrar contornos en la imagen binaria\n",
    "         contours, _ = cv2.findContours(threshold, cv2.RETR_TREE , cv2.CHAIN_APPROX_SIMPLE)\n",
    "\n",
    "         # Filtra los contornos por su área y forma circular\n",
    "         ball_contour = None\n",
    "         for contour in contours:\n",
    "\n",
    "            # Si el area del contorno es menor que 1700, la obviamos. \n",
    "            # Asi descartamos contornos que no son de interes.\n",
    "            if cv2.contourArea(contour) < 1700:\n",
    "                  continue\n",
    "\n",
    "            (x, y), radius = cv2.minEnclosingCircle(contour)\n",
    "            center = (int(x), int(y))\n",
    "            radius = int(radius)\n",
    "\n",
    "            # Calculamos la diferencia entre el area del contorno y el area de un circulo. \n",
    "            # Si la diferencia es muy grande, el contorno no es muy circular.\n",
    "            if abs(1 - (cv2.contourArea(contour) / (np.pi * radius**2))) > 0.35:\n",
    "               continue\n",
    "\n",
    "            ball_contour = contour\n",
    "            break\n",
    "    \n",
    "         if ball_contour is not None:\n",
    "            \n",
    "            cv2.circle(frame, center, radius, (0, 0, 255), 2)\n",
    "            # cv2.drawContours(frame, [ball_contour], -1, (0, 0, 255), 2)\n",
    "\n",
    "         cv2.imshow('Frame', frame)\n",
    "         # cv2.imshow('median', median)\n",
    "         # cv2.imshow('gray', gray)\n",
    "         # cv2.imshow('Threshold', threshold)\n",
    "\n",
    "         if cv2.waitKey(25) & 0xFF == ord('q'):\n",
    "            break   \n",
    "  \n",
    "   except:\n",
    "     pass;\n",
    "    \n",
    "   finally:\n",
    "     cap.release()"
   ]
  },
  {
   "attachments": {},
   "cell_type": "markdown",
   "metadata": {},
   "source": [
    "### https://www.youtube.com/watch?v=RaCwLrKuS1w"
   ]
  },
  {
   "attachments": {},
   "cell_type": "markdown",
   "metadata": {},
   "source": [
    "### Fuentes  \n",
    "-  https://docs.opencv.org/4.x/dd/d49/tutorial_py_contour_features.html\n",
    "-  https://docs.opencv.org/4.x/d4/d73/tutorial_py_contours_begin.html"
   ]
  }
 ],
 "metadata": {
  "kernelspec": {
   "display_name": "MLenv",
   "language": "python",
   "name": "python3"
  },
  "language_info": {
   "codemirror_mode": {
    "name": "ipython",
    "version": 3
   },
   "file_extension": ".py",
   "mimetype": "text/x-python",
   "name": "python",
   "nbconvert_exporter": "python",
   "pygments_lexer": "ipython3",
   "version": "3.9.16"
  },
  "orig_nbformat": 4,
  "vscode": {
   "interpreter": {
    "hash": "d5e1dc1534da5467212750a6083d67cda8f561e9887ba3d1da25ecc6e92c49d8"
   }
  }
 },
 "nbformat": 4,
 "nbformat_minor": 2
}
